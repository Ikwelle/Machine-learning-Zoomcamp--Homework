{
 "cells": [
  {
   "cell_type": "code",
   "execution_count": 39,
   "id": "df489f1b-8272-409f-af36-3dad3bf8f3e4",
   "metadata": {},
   "outputs": [],
   "source": [
    "import numpy as np\n",
    "import pandas as pd\n"
   ]
  },
  {
   "cell_type": "code",
   "execution_count": 40,
   "id": "f92724e7-d2cd-46e6-9c8a-75f8fef23125",
   "metadata": {},
   "outputs": [
    {
     "data": {
      "text/plain": [
       "RangeIndex(start=0, stop=9704, step=1)"
      ]
     },
     "execution_count": 40,
     "metadata": {},
     "output_type": "execute_result"
    }
   ],
   "source": [
    "data = pd.read_csv(\"https://raw.githubusercontent.com/alexeygrigorev/datasets/master/car_fuel_efficiency.csv\")\n",
    "data.index"
   ]
  },
  {
   "cell_type": "code",
   "execution_count": 41,
   "id": "28acf7db-f0fd-4b8c-a1ed-91a9e9ab8050",
   "metadata": {},
   "outputs": [
    {
     "data": {
      "text/html": [
       "<div>\n",
       "<style scoped>\n",
       "    .dataframe tbody tr th:only-of-type {\n",
       "        vertical-align: middle;\n",
       "    }\n",
       "\n",
       "    .dataframe tbody tr th {\n",
       "        vertical-align: top;\n",
       "    }\n",
       "\n",
       "    .dataframe thead th {\n",
       "        text-align: right;\n",
       "    }\n",
       "</style>\n",
       "<table border=\"1\" class=\"dataframe\">\n",
       "  <thead>\n",
       "    <tr style=\"text-align: right;\">\n",
       "      <th></th>\n",
       "      <th>engine_displacement</th>\n",
       "      <th>horsepower</th>\n",
       "      <th>vehicle_weight</th>\n",
       "      <th>model_year</th>\n",
       "      <th>fuel_efficiency_mpg</th>\n",
       "    </tr>\n",
       "  </thead>\n",
       "  <tbody>\n",
       "    <tr>\n",
       "      <th>0</th>\n",
       "      <td>170</td>\n",
       "      <td>159.0</td>\n",
       "      <td>3413.433759</td>\n",
       "      <td>2003</td>\n",
       "      <td>13.231729</td>\n",
       "    </tr>\n",
       "    <tr>\n",
       "      <th>1</th>\n",
       "      <td>130</td>\n",
       "      <td>97.0</td>\n",
       "      <td>3149.664934</td>\n",
       "      <td>2007</td>\n",
       "      <td>13.688217</td>\n",
       "    </tr>\n",
       "    <tr>\n",
       "      <th>2</th>\n",
       "      <td>170</td>\n",
       "      <td>78.0</td>\n",
       "      <td>3079.038997</td>\n",
       "      <td>2018</td>\n",
       "      <td>14.246341</td>\n",
       "    </tr>\n",
       "    <tr>\n",
       "      <th>3</th>\n",
       "      <td>220</td>\n",
       "      <td>NaN</td>\n",
       "      <td>2542.392402</td>\n",
       "      <td>2009</td>\n",
       "      <td>16.912736</td>\n",
       "    </tr>\n",
       "    <tr>\n",
       "      <th>4</th>\n",
       "      <td>210</td>\n",
       "      <td>140.0</td>\n",
       "      <td>3460.870990</td>\n",
       "      <td>2009</td>\n",
       "      <td>12.488369</td>\n",
       "    </tr>\n",
       "  </tbody>\n",
       "</table>\n",
       "</div>"
      ],
      "text/plain": [
       "   engine_displacement  horsepower  vehicle_weight  model_year  \\\n",
       "0                  170       159.0     3413.433759        2003   \n",
       "1                  130        97.0     3149.664934        2007   \n",
       "2                  170        78.0     3079.038997        2018   \n",
       "3                  220         NaN     2542.392402        2009   \n",
       "4                  210       140.0     3460.870990        2009   \n",
       "\n",
       "   fuel_efficiency_mpg  \n",
       "0            13.231729  \n",
       "1            13.688217  \n",
       "2            14.246341  \n",
       "3            16.912736  \n",
       "4            12.488369  "
      ]
     },
     "execution_count": 41,
     "metadata": {},
     "output_type": "execute_result"
    }
   ],
   "source": [
    "df = data[['engine_displacement','horsepower','vehicle_weight','model_year','fuel_efficiency_mpg']]\n",
    "df.head(5)"
   ]
  },
  {
   "cell_type": "code",
   "execution_count": 48,
   "id": "23e77d38-eed7-4604-9912-3b49c5a5ebca",
   "metadata": {},
   "outputs": [],
   "source": [
    "def train_model_reg(x, y,r):\n",
    "    ones = np.ones(x.shape[0])\n",
    "    X = np.column_stack([ones, x])\n",
    "    XT = X.T\n",
    "    XTX = XT.dot(X)\n",
    "    XTX = XTX + r * np.eye(XTX.shape[0])\n",
    "    XTX_inv = np.linalg.inv(XTX)\n",
    "    wfull = XTX_inv.dot(XT).dot(y)\n",
    "\n",
    "    return wfull[0], wfull[1:]"
   ]
  },
  {
   "cell_type": "code",
   "execution_count": 43,
   "id": "6b09b489-3a85-466e-b470-9aa217d70780",
   "metadata": {},
   "outputs": [],
   "source": [
    "def rmse(y_old, y_pred):\n",
    "    error = y_old - y_pred\n",
    "    sq = error **2\n",
    "    mse = sq.mean()\n",
    "   \n",
    "\n",
    "    return np.sqrt(mse)"
   ]
  },
  {
   "cell_type": "code",
   "execution_count": 44,
   "id": "06f474e3-8307-4f78-af76-f55e60ca478b",
   "metadata": {},
   "outputs": [],
   "source": [
    "def prepare_x0(df):\n",
    "    df = df.copy()\n",
    "    df['age'] = 2023 - df.model_year\n",
    "    df = df[features]\n",
    "    df = df.fillna(0)\n",
    "    x = df.values\n",
    "    return x\n",
    "\n",
    "features = ['engine_displacement','horsepower','vehicle_weight']\n"
   ]
  },
  {
   "cell_type": "code",
   "execution_count": 47,
   "id": "c311bcf0-342c-4b4c-808c-14d05609a352",
   "metadata": {},
   "outputs": [
    {
     "name": "stdout",
     "output_type": "stream",
     "text": [
      "0.001 29.544495886865004 0.512893851674357\n",
      "\n"
     ]
    }
   ],
   "source": [
    "\n",
    "n=len(df)\n",
    "n_train = int(n * 0.6)\n",
    "n_val = int ( n * 0.2)\n",
    "n_test = int ( n - n_train - n_val)\n",
    "\n",
    "\n",
    "idx =np.arange(n)\n",
    "np.random.seed(9)\n",
    "np.random.shuffle(idx)\n",
    "\n",
    "df_train = df.iloc[idx[:n_train]]\n",
    "df_val = df.iloc[idx[n_train : n_val + n_train]]\n",
    "df_test = df.iloc[idx[n_train + n_val: ]]\n",
    "\n",
    "\n",
    "df_train.reset_index(drop=True)\n",
    "df_val.reset_index(drop=True)\n",
    "df_test.reset_index(drop=True)\n",
    "\n",
    "\n",
    "y_train = df_train.fuel_efficiency_mpg\n",
    "y_val = df_val.fuel_efficiency_mpg\n",
    "y_test = df_test.fuel_efficiency_mpg\n",
    "\n",
    "del df_train['fuel_efficiency_mpg']\n",
    "del df_val['fuel_efficiency_mpg']\n",
    "del df_test['fuel_efficiency_mpg']\n",
    "\n",
    "df_full_train = pd.concat([df_train,df_val])\n",
    "y_full_train = np.concatenate([y_train,y_val])\n",
    "\n",
    "r=0.001\n",
    "x_train = prepare_x0(df_full_train)\n",
    "w0,w = train_model_reg(x_train, y_full_train,r)\n",
    "\n",
    "x_val = prepare_x0(df_val)\n",
    "y_pred_val = w0 + x_val.dot(w)\n",
    "score_val = rmse(y_val,y_pred_val)\n",
    "print(r, w0, score_val)\n",
    "\n",
    "print()\n"
   ]
  },
  {
   "cell_type": "code",
   "execution_count": null,
   "id": "35c4be17-67a6-4b80-ac69-ba3e8403e9d5",
   "metadata": {},
   "outputs": [],
   "source": []
  },
  {
   "cell_type": "code",
   "execution_count": null,
   "id": "d990a577-1280-4297-88b2-6b02f2082fb8",
   "metadata": {},
   "outputs": [],
   "source": []
  },
  {
   "cell_type": "code",
   "execution_count": null,
   "id": "5e4b80b8-345c-407c-85d1-56f00768bbf0",
   "metadata": {},
   "outputs": [],
   "source": []
  },
  {
   "cell_type": "code",
   "execution_count": null,
   "id": "6cacc248-ceba-4dc3-86f7-88ed94ecb713",
   "metadata": {},
   "outputs": [],
   "source": []
  },
  {
   "cell_type": "code",
   "execution_count": null,
   "id": "d8555c6b-8787-4bb6-aaee-b12d2a5f667c",
   "metadata": {},
   "outputs": [],
   "source": []
  },
  {
   "cell_type": "code",
   "execution_count": null,
   "id": "7651b328-8c88-4825-8334-299bbf65d9c9",
   "metadata": {},
   "outputs": [],
   "source": []
  },
  {
   "cell_type": "code",
   "execution_count": null,
   "id": "cb7ca8d7-46e5-4c46-8602-b8f6133eef30",
   "metadata": {},
   "outputs": [],
   "source": []
  }
 ],
 "metadata": {
  "kernelspec": {
   "display_name": "Python 3 (ipykernel)",
   "language": "python",
   "name": "python3"
  },
  "language_info": {
   "codemirror_mode": {
    "name": "ipython",
    "version": 3
   },
   "file_extension": ".py",
   "mimetype": "text/x-python",
   "name": "python",
   "nbconvert_exporter": "python",
   "pygments_lexer": "ipython3",
   "version": "3.12.1"
  }
 },
 "nbformat": 4,
 "nbformat_minor": 5
}
