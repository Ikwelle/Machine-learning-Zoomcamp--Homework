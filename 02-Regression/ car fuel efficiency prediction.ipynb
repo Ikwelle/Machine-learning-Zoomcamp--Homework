{
 "cells": [
  {
   "cell_type": "code",
   "execution_count": 203,
   "id": "8c570a77-7466-426d-b07b-2df5b0772582",
   "metadata": {},
   "outputs": [],
   "source": [
    "import numpy as np\n",
    "import pandas as pd\n"
   ]
  },
  {
   "cell_type": "code",
   "execution_count": 204,
   "id": "a81dd272-bfd5-4b94-90d0-3c74b30c5dfe",
   "metadata": {},
   "outputs": [
    {
     "data": {
      "text/plain": [
       "RangeIndex(start=0, stop=9704, step=1)"
      ]
     },
     "execution_count": 204,
     "metadata": {},
     "output_type": "execute_result"
    }
   ],
   "source": [
    "data = pd.read_csv(\"https://raw.githubusercontent.com/alexeygrigorev/datasets/master/car_fuel_efficiency.csv\")\n",
    "data.index"
   ]
  },
  {
   "cell_type": "code",
   "execution_count": 205,
   "id": "b03755da-dc7e-41da-abf4-3ee23a7bfbcb",
   "metadata": {},
   "outputs": [
    {
     "data": {
      "text/html": [
       "<div>\n",
       "<style scoped>\n",
       "    .dataframe tbody tr th:only-of-type {\n",
       "        vertical-align: middle;\n",
       "    }\n",
       "\n",
       "    .dataframe tbody tr th {\n",
       "        vertical-align: top;\n",
       "    }\n",
       "\n",
       "    .dataframe thead th {\n",
       "        text-align: right;\n",
       "    }\n",
       "</style>\n",
       "<table border=\"1\" class=\"dataframe\">\n",
       "  <thead>\n",
       "    <tr style=\"text-align: right;\">\n",
       "      <th></th>\n",
       "      <th>engine_displacement</th>\n",
       "      <th>horsepower</th>\n",
       "      <th>vehicle_weight</th>\n",
       "      <th>model_year</th>\n",
       "      <th>fuel_efficiency_mpg</th>\n",
       "    </tr>\n",
       "  </thead>\n",
       "  <tbody>\n",
       "    <tr>\n",
       "      <th>0</th>\n",
       "      <td>170</td>\n",
       "      <td>159.0</td>\n",
       "      <td>3413.433759</td>\n",
       "      <td>2003</td>\n",
       "      <td>13.231729</td>\n",
       "    </tr>\n",
       "    <tr>\n",
       "      <th>1</th>\n",
       "      <td>130</td>\n",
       "      <td>97.0</td>\n",
       "      <td>3149.664934</td>\n",
       "      <td>2007</td>\n",
       "      <td>13.688217</td>\n",
       "    </tr>\n",
       "    <tr>\n",
       "      <th>2</th>\n",
       "      <td>170</td>\n",
       "      <td>78.0</td>\n",
       "      <td>3079.038997</td>\n",
       "      <td>2018</td>\n",
       "      <td>14.246341</td>\n",
       "    </tr>\n",
       "    <tr>\n",
       "      <th>3</th>\n",
       "      <td>220</td>\n",
       "      <td>NaN</td>\n",
       "      <td>2542.392402</td>\n",
       "      <td>2009</td>\n",
       "      <td>16.912736</td>\n",
       "    </tr>\n",
       "    <tr>\n",
       "      <th>4</th>\n",
       "      <td>210</td>\n",
       "      <td>140.0</td>\n",
       "      <td>3460.870990</td>\n",
       "      <td>2009</td>\n",
       "      <td>12.488369</td>\n",
       "    </tr>\n",
       "  </tbody>\n",
       "</table>\n",
       "</div>"
      ],
      "text/plain": [
       "   engine_displacement  horsepower  vehicle_weight  model_year  \\\n",
       "0                  170       159.0     3413.433759        2003   \n",
       "1                  130        97.0     3149.664934        2007   \n",
       "2                  170        78.0     3079.038997        2018   \n",
       "3                  220         NaN     2542.392402        2009   \n",
       "4                  210       140.0     3460.870990        2009   \n",
       "\n",
       "   fuel_efficiency_mpg  \n",
       "0            13.231729  \n",
       "1            13.688217  \n",
       "2            14.246341  \n",
       "3            16.912736  \n",
       "4            12.488369  "
      ]
     },
     "execution_count": 205,
     "metadata": {},
     "output_type": "execute_result"
    }
   ],
   "source": [
    "df = data[['engine_displacement','horsepower','vehicle_weight','model_year','fuel_efficiency_mpg']]\n",
    "df.head(5)"
   ]
  },
  {
   "cell_type": "code",
   "execution_count": 206,
   "id": "9292ce91-5a1b-4eea-8aca-0c58fced22fa",
   "metadata": {},
   "outputs": [
    {
     "data": {
      "text/plain": [
       "<Axes: xlabel='fuel_efficiency_mpg', ylabel='Count'>"
      ]
     },
     "execution_count": 206,
     "metadata": {},
     "output_type": "execute_result"
    },
    {
     "data": {
      "image/png": "[encoded data removed]",
      "text/plain": [
       "<Figure size 640x480 with 1 Axes>"
      ]
     },
     "metadata": {},
     "output_type": "display_data"
    }
   ],
   "source": [
    "import seaborn as sns\n",
    "sns.histplot(df['fuel_efficiency_mpg'], bins=50)"
   ]
  },
  {
   "cell_type": "code",
   "execution_count": 207,
   "id": "5a5e3273-8100-40b2-9201-d97db21ca843",
   "metadata": {},
   "outputs": [
    {
     "data": {
      "text/plain": [
       "engine_displacement      0\n",
       "horsepower             708\n",
       "vehicle_weight           0\n",
       "model_year               0\n",
       "fuel_efficiency_mpg      0\n",
       "dtype: int64"
      ]
     },
     "execution_count": 207,
     "metadata": {},
     "output_type": "execute_result"
    }
   ],
   "source": [
    "df.isnull().sum()"
   ]
  },
  {
   "cell_type": "code",
   "execution_count": 208,
   "id": "fdfb98b0-c2fd-471c-a35a-f5865bda08ce",
   "metadata": {},
   "outputs": [
    {
     "data": {
      "text/plain": [
       "np.float64(149.0)"
      ]
     },
     "execution_count": 208,
     "metadata": {},
     "output_type": "execute_result"
    }
   ],
   "source": [
    "df.horsepower.median()"
   ]
  },
  {
   "cell_type": "code",
   "execution_count": 209,
   "id": "484c9f3a-59e9-41b7-8929-8f297b7d33e4",
   "metadata": {},
   "outputs": [],
   "source": [
    "n =len(df)\n",
    "n_train = int(n * 0.6)\n",
    "n_val = int(n * 0.2)\n",
    "n_test = n-n_train-n_val \n",
    "\n",
    "\n",
    "idx =np.arange(n)\n",
    "np.random.seed(42)\n",
    "np.random.shuffle(idx)"
   ]
  },
  {
   "cell_type": "code",
   "execution_count": 210,
   "id": "777de871-ff3c-4399-83f0-0f2711b82030",
   "metadata": {},
   "outputs": [],
   "source": [
    "df_train = df.iloc[idx[:n_train]]\n",
    "df_val = df.iloc[idx[n_train : n_val + n_train]]\n",
    "df_test = df.iloc[idx[n_train + n_val: ]]"
   ]
  },
  {
   "cell_type": "code",
   "execution_count": 211,
   "id": "1d390415-44e6-4e4f-ba97-99dcabb7a70d",
   "metadata": {},
   "outputs": [
    {
     "data": {
      "text/plain": [
       "(5822, 1940, 1942)"
      ]
     },
     "execution_count": 211,
     "metadata": {},
     "output_type": "execute_result"
    }
   ],
   "source": [
    "len(df_train),len(df_val),len(df_test)"
   ]
  },
  {
   "cell_type": "code",
   "execution_count": 212,
   "id": "aadae215-96f0-466c-baf7-7dde8e55f433",
   "metadata": {},
   "outputs": [],
   "source": [
    "df_train.reset_index(drop=True)\n",
    "df_val.reset_index(drop=True)\n",
    "df_test.reset_index(drop=True)\n",
    "\n",
    "\n",
    "y_train = df_train.fuel_efficiency_mpg\n",
    "y_val = df_val.fuel_efficiency_mpg\n",
    "y_test = df_test.fuel_efficiency_mpg\n",
    "\n",
    "del df_train['fuel_efficiency_mpg']\n",
    "del df_val['fuel_efficiency_mpg']\n",
    "del df_test['fuel_efficiency_mpg']"
   ]
  },
  {
   "cell_type": "code",
   "execution_count": 213,
   "id": "1c93946a-f924-41b1-ad1b-6a19308cf580",
   "metadata": {},
   "outputs": [],
   "source": [
    "def train_model (x, y):\n",
    "    ones = np.ones(x.shape[0])\n",
    "    X = np.column_stack([ones, x])\n",
    "    XT = X.T\n",
    "    XTX = XT.dot(X)\n",
    "    XTX_inv = np.linalg.inv(XTX)\n",
    "    wfull = XTX_inv.dot(XT).dot(y)\n",
    "\n",
    "    return wfull[0], wfull[1:]\n",
    "    "
   ]
  },
  {
   "cell_type": "code",
   "execution_count": 214,
   "id": "53186c5b-edaa-429a-a9ef-a6f277b94064",
   "metadata": {},
   "outputs": [],
   "source": [
    "def rmse(y_old, y_pred):\n",
    "    error = y_old - y_pred\n",
    "    sq = error **2\n",
    "    mse = sq.mean()\n",
    "   \n",
    "\n",
    "    return np.sqrt(mse)"
   ]
  },
  {
   "cell_type": "code",
   "execution_count": 215,
   "id": "f635c60a-48e8-48aa-95fd-ac7a99c09e7b",
   "metadata": {},
   "outputs": [],
   "source": [
    "features = ['engine_displacement','horsepower','vehicle_weight']"
   ]
  },
  {
   "cell_type": "markdown",
   "id": "b5ea0be8-fe5f-4abe-b94e-d24ac07d3f45",
   "metadata": {},
   "source": [
    "### filling nan with 0"
   ]
  },
  {
   "cell_type": "code",
   "execution_count": 216,
   "id": "8c6e5f0f-a754-4aff-b0ca-c28ba7d16a20",
   "metadata": {},
   "outputs": [],
   "source": [
    "def prepare_x0(df):\n",
    "    df = df.copy()\n",
    "    #df['age'] = 2023 - df.model_year\n",
    "    #df = df[features]\n",
    "    df = df.fillna(0)\n",
    "    x = df.values\n",
    "    return x"
   ]
  },
  {
   "cell_type": "code",
   "execution_count": 217,
   "id": "90988d09-46b3-4ce6-afcf-f4df1ffb6dcd",
   "metadata": {},
   "outputs": [
    {
     "data": {
      "text/plain": [
       "np.float64(0.5203457641474558)"
      ]
     },
     "execution_count": 217,
     "metadata": {},
     "output_type": "execute_result"
    }
   ],
   "source": [
    "x_train = prepare_x0(df_train)\n",
    "w0,w = train_model (x_train, y_train)\n",
    "\n",
    "y_pred = w0 + x_train.dot(w)\n",
    "rmse(y_train,y_pred)"
   ]
  },
  {
   "cell_type": "code",
   "execution_count": 218,
   "id": "d36a73ae-4878-4f96-9456-2dc28cbe144a",
   "metadata": {},
   "outputs": [
    {
     "data": {
      "text/plain": [
       "np.float64(0.52)"
      ]
     },
     "execution_count": 218,
     "metadata": {},
     "output_type": "execute_result"
    }
   ],
   "source": [
    "x_train = prepare_x0(df_train)\n",
    "w0,w = train_model (x_train, y_train)\n",
    "\n",
    "x_val = prepare_x0(df_val)\n",
    "y_pred_val = w0 + x_val.dot(w)\n",
    "rmse(y_val,y_pred_val).round(2)"
   ]
  },
  {
   "cell_type": "markdown",
   "id": "48b28cc4-cb68-495b-a3d8-782b387f94b2",
   "metadata": {},
   "source": [
    "### filling nan with mean"
   ]
  },
  {
   "cell_type": "code",
   "execution_count": 219,
   "id": "0fd6deb2-9308-4b6c-85c0-fee65ce97fcd",
   "metadata": {},
   "outputs": [
    {
     "data": {
      "text/plain": [
       "np.float64(149.65729212983547)"
      ]
     },
     "execution_count": 219,
     "metadata": {},
     "output_type": "execute_result"
    }
   ],
   "source": [
    "df.horsepower.mean()"
   ]
  },
  {
   "cell_type": "code",
   "execution_count": 220,
   "id": "d7efefab-6827-4b00-8cb1-7a5250e3c87f",
   "metadata": {},
   "outputs": [],
   "source": [
    "def prepare_xmean(df):\n",
    "    df = df.copy()\n",
    "    #df['age'] = 2023 - df.model_year\n",
    "    #df = df[features]\n",
    "    df = df.fillna(df.horsepower.mean())\n",
    "    x = df.values\n",
    "    return x"
   ]
  },
  {
   "cell_type": "code",
   "execution_count": 221,
   "id": "e1362c76-93c8-495b-b9c3-fa2d787d7f20",
   "metadata": {},
   "outputs": [
    {
     "data": {
      "text/plain": [
       "np.float64(0.4625139498401926)"
      ]
     },
     "execution_count": 221,
     "metadata": {},
     "output_type": "execute_result"
    }
   ],
   "source": [
    "x_train = prepare_xmean(df_train)\n",
    "w0,w = train_model (x_train, y_train)\n",
    "\n",
    "y_pred = w0 + x_train.dot(w)\n",
    "rmse(y_train,y_pred)"
   ]
  },
  {
   "cell_type": "code",
   "execution_count": 222,
   "id": "81b85e4c-0aba-4dd8-9f56-f0dfd14e9c97",
   "metadata": {},
   "outputs": [
    {
     "data": {
      "text/plain": [
       "np.float64(0.46)"
      ]
     },
     "execution_count": 222,
     "metadata": {},
     "output_type": "execute_result"
    }
   ],
   "source": [
    "x_train = prepare_xmean(df_train)\n",
    "w0,w = train_model (x_train, y_train)\n",
    "\n",
    "x_val = prepare_xmean(df_val)\n",
    "y_pred_val = w0 + x_val.dot(w)\n",
    "rmse(y_val,y_pred_val).round(2)"
   ]
  },
  {
   "cell_type": "markdown",
   "id": "24baf272-c7b7-4e78-bbe0-7b11142f86c9",
   "metadata": {},
   "source": [
    "### applying regularization and tuning of r"
   ]
  },
  {
   "cell_type": "code",
   "execution_count": 223,
   "id": "b5df2909-37f8-4776-8953-0e89567099b1",
   "metadata": {},
   "outputs": [],
   "source": [
    "def train_model_reg(x, y,r=r):\n",
    "    ones = np.ones(x.shape[0])\n",
    "    X = np.column_stack([ones, x])\n",
    "    XT = X.T\n",
    "    XTX = XT.dot(X)\n",
    "    XTX = XTX + r * np.eye(XTX.shape[0])\n",
    "    XTX_inv = np.linalg.inv(XTX)\n",
    "    wfull = XTX_inv.dot(XT).dot(y)\n",
    "\n",
    "    return wfull[0], wfull[1:]"
   ]
  },
  {
   "cell_type": "code",
   "execution_count": 228,
   "id": "ae043de2-4a53-4b0c-a4a7-83d5bf85af68",
   "metadata": {},
   "outputs": [
    {
     "name": "stdout",
     "output_type": "stream",
     "text": [
      "0 27.505863975451373 0.5131330922635593\n",
      "0.01 27.505863975451373 0.5131330922635593\n",
      "0.1 27.505863975451373 0.5131330922635593\n",
      "1 27.505863975451373 0.5131330922635593\n",
      "5 27.505863975451373 0.5131330922635593\n",
      "10 27.505863975451373 0.5131330922635593\n",
      "100 27.505863975451373 0.5131330922635593\n"
     ]
    }
   ],
   "source": [
    "for r in [0, 0.01, 0.1, 1, 5, 10, 100]:\n",
    "   \n",
    "    x_train = prepare_x0(df_train)\n",
    "    w0,w = train_model (x_train, y_train)\n",
    "    \n",
    "    x_val = prepare_x0(df_val)\n",
    "    y_pred_val = w0 + x_val.dot(w)\n",
    "    score= rmse(y_val,y_pred_val).round(2)\n",
    "    print(r,w0,score)\n",
    "    "
   ]
  },
  {
   "cell_type": "markdown",
   "id": "6c8ee692-1539-4a57-82e7-53f6af508907",
   "metadata": {},
   "source": [
    "### Checking the influence of the seed on the model"
   ]
  },
  {
   "cell_type": "code",
   "execution_count": 225,
   "id": "912d3d52-090c-4c2a-9f65-d2c805a85215",
   "metadata": {},
   "outputs": [
    {
     "name": "stdout",
     "output_type": "stream",
     "text": [
      "100 27.32932514630192 0.52\n",
      "\n",
      "100 28.940064355319876 0.52\n",
      "\n",
      "100 25.857415150834832 0.52\n",
      "\n",
      "100 28.07301575626919 0.52\n",
      "\n",
      "100 25.959601822989377 0.51\n",
      "\n",
      "100 25.834054960277204 0.53\n",
      "\n",
      "100 25.901665013380573 0.53\n",
      "\n",
      "100 28.409009906210905 0.51\n",
      "\n",
      "100 26.45827739830252 0.51\n",
      "\n",
      "100 27.505863975451373 0.51\n",
      "\n"
     ]
    }
   ],
   "source": [
    "df_copy = df.copy()\n",
    "n=len(df_copy)\n",
    "n_train = int(n * 0.6)\n",
    "n_val = int ( n * 0.2)\n",
    "n_test = int ( n - n_train - n_val)\n",
    "\n",
    "score=[]\n",
    "for seed in [0, 1, 2, 3, 4, 5, 6, 7, 8, 9]:\n",
    "    idx =np.arange(n)\n",
    "    np.random.seed(seed)\n",
    "    np.random.shuffle(idx)\n",
    "    \n",
    "    df_train = df.iloc[idx[:n_train]]\n",
    "    df_val = df.iloc[idx[n_train : n_val + n_train]]\n",
    "    df_test = df.iloc[idx[n_train + n_val: ]]\n",
    "\n",
    "\n",
    "    df_train.reset_index(drop=True)\n",
    "    df_val.reset_index(drop=True)\n",
    "    df_test.reset_index(drop=True)\n",
    "    \n",
    "    \n",
    "    y_train = df_train.fuel_efficiency_mpg\n",
    "    y_val = df_val.fuel_efficiency_mpg\n",
    "    y_test = df_test.fuel_efficiency_mpg\n",
    "    \n",
    "    del df_train['fuel_efficiency_mpg']\n",
    "    del df_val['fuel_efficiency_mpg']\n",
    "    del df_test['fuel_efficiency_mpg']\n",
    "\n",
    "    x_train = prepare_x0(df_train)\n",
    "    w0,w = train_model(x_train, y_train)\n",
    "    \n",
    "    x_val = prepare_x0(df_val)\n",
    "    y_pred_val = w0 + x_val.dot(w)\n",
    "    score_val = rmse(y_val,y_pred_val)\n",
    "    score = score + [score_val.round(2)]\n",
    "    print(r, w0, score_val.round(2))\n",
    "    \n",
    "    print()\n"
   ]
  },
  {
   "cell_type": "code",
   "execution_count": 226,
   "id": "026abd3b-d171-4cbd-a1c5-1ca231fc231a",
   "metadata": {},
   "outputs": [
    {
     "data": {
      "text/plain": [
       "np.float64(0.007)"
      ]
     },
     "execution_count": 226,
     "metadata": {},
     "output_type": "execute_result"
    }
   ],
   "source": [
    "score = np.array(score)\n",
    "round(np.std(score),3)"
   ]
  },
  {
   "cell_type": "markdown",
   "id": "28bab4c8-0193-4726-875c-4e83589e86d3",
   "metadata": {},
   "source": [
    "### using the model with seed 9"
   ]
  },
  {
   "cell_type": "code",
   "execution_count": 229,
   "id": "b5dc7865-d0cc-4bb8-823d-aed2fe125503",
   "metadata": {},
   "outputs": [
    {
     "name": "stdout",
     "output_type": "stream",
     "text": [
      "0.001 26.95024183040363 0.512809093700119\n",
      "\n"
     ]
    }
   ],
   "source": [
    "df_copy = df.copy()\n",
    "n=len(df_copy)\n",
    "n_train = int(n * 0.6)\n",
    "n_val = int ( n * 0.2)\n",
    "n_test = int ( n - n_train - n_val)\n",
    "\n",
    "\n",
    "idx =np.arange(n)\n",
    "np.random.seed(9)\n",
    "np.random.shuffle(idx)\n",
    "\n",
    "df_train = df.iloc[idx[:n_train]]\n",
    "df_val = df.iloc[idx[n_train : n_val + n_train]]\n",
    "df_test = df.iloc[idx[n_train + n_val: ]]\n",
    "\n",
    "\n",
    "df_train.reset_index(drop=True)\n",
    "df_val.reset_index(drop=True)\n",
    "df_test.reset_index(drop=True)\n",
    "\n",
    "\n",
    "y_train = df_train.fuel_efficiency_mpg\n",
    "y_val = df_val.fuel_efficiency_mpg\n",
    "y_test = df_test.fuel_efficiency_mpg\n",
    "\n",
    "del df_train['fuel_efficiency_mpg']\n",
    "del df_val['fuel_efficiency_mpg']\n",
    "del df_test['fuel_efficiency_mpg']\n",
    "\n",
    "df_full_train = pd.concat([df_train,df_val])\n",
    "y_full_train = np.concatenate([y_train,y_val])\n",
    "\n",
    "r=0.001\n",
    "x_train = prepare_x0(df_full_train)\n",
    "w0,w = train_model_reg(x_train, y_full_train,r)\n",
    "\n",
    "x_val = prepare_x0(df_val)\n",
    "y_pred_val = w0 + x_val.dot(w)\n",
    "score_val = rmse(y_val,y_pred_val)\n",
    "print(r, w0, score_val)\n",
    "\n",
    "print()\n"
   ]
  },
  {
   "cell_type": "code",
   "execution_count": null,
   "id": "f2c52d84-67ec-4039-85af-a54351c5c395",
   "metadata": {},
   "outputs": [],
   "source": []
  },
  {
   "cell_type": "code",
   "execution_count": null,
   "id": "3d3c71f0-d167-4ddc-87cb-7b339caa9e53",
   "metadata": {},
   "outputs": [],
   "source": []
  }
 ],
 "metadata": {
  "kernelspec": {
   "display_name": "Python 3 (ipykernel)",
   "language": "python",
   "name": "python3"
  },
  "language_info": {
   "codemirror_mode": {
    "name": "ipython",
    "version": 3
   },
   "file_extension": ".py",
   "mimetype": "text/x-python",
   "name": "python",
   "nbconvert_exporter": "python",
   "pygments_lexer": "ipython3",
   "version": "3.12.1"
  }
 },
 "nbformat": 4,
 "nbformat_minor": 5
}
